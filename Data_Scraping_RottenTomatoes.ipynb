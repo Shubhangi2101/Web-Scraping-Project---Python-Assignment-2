{
 "cells": [
  {
   "cell_type": "code",
   "execution_count": 1,
   "id": "25e9cf61",
   "metadata": {},
   "outputs": [],
   "source": [
    "import pandas as pd\n",
    "import numpy as np\n",
    "from bs4 import BeautifulSoup\n",
    "import requests\n",
    "import pandas as pd\n",
    "from pandasql import sqldf\n",
    "import pandas as pd\n",
    "import matplotlib.pyplot as plt\n",
    "import seaborn as sns"
   ]
  },
  {
   "cell_type": "code",
   "execution_count": 2,
   "id": "19ece127",
   "metadata": {},
   "outputs": [
    {
     "name": "stdout",
     "output_type": "stream",
     "text": [
      "53\n",
      "                                            SHOW NAME TOMATO SCORE\n",
      "0                                  The Bear: Season 2          99%\n",
      "1                              Happy Valley: Season 3         100%\n",
      "2                       A Small Light: Limited Series         100%\n",
      "3                             Cunk on Earth: Season 1         100%\n",
      "4                                     Primo: Season 1         100%\n",
      "5                              Drops of God: Season 1         100%\n",
      "6             Star Trek: Strange New Worlds: Season 1          99%\n",
      "7                                      Beef: Season 1          98%\n",
      "8                                Poker Face: Season 1          98%\n",
      "9                         Star Trek: Picard: Season 3          98%\n",
      "10            Star Trek: Strange New Worlds: Season 2          96%\n",
      "11                               Succession: Season 4          97%\n",
      "12                             Schmigadoon!: Season 2          97%\n",
      "13                           The Last of Us: Season 1          96%\n",
      "14                    American Born Chinese: Season 1          94%\n",
      "15                              I'm a Virgo: Season 1          96%\n",
      "16                                      You: Season 4          95%\n",
      "17                                    Barry: Season 4          95%\n",
      "18                               Party Down: Season 3          95%\n",
      "19                The Marvelous Mrs. Maisel: Season 5          95%\n",
      "20  I Think You Should Leave With Tim Robinson: Se...          96%\n",
      "21                             The Traitors: Season 1          95%\n",
      "22      Queen Charlotte: A Bridgerton Story: Season 1          94%\n",
      "23                            Yellowjackets: Season 2          94%\n",
      "24                               Lucky Hank: Season 1          93%\n",
      "25                                Rain Dogs: Season 1          93%\n",
      "26                                 Platonic: Season 1          92%\n",
      "27                       The Big Door Prize: Season 1          92%\n",
      "28                               Mrs. Davis: Season 1          91%\n",
      "29                A Spy Among Friends: Limited Series          87%\n",
      "30                                     Silo: Season 1          88%\n",
      "31              Pretty Baby: Brooke Shields: Season 1          88%\n",
      "32                                    Swarm: Season 1          86%\n",
      "33                                   Hijack: Season 1          87%\n",
      "34              Tiny Beautiful Things: Limited Series          87%\n",
      "35                             The Diplomat: Season 1          85%\n",
      "36                          The Mandalorian: Season 3          85%\n",
      "37                       The Muppets Mayhem: Season 1          86%\n",
      "38                     The Company You Keep: Season 1          85%\n",
      "39                       Dead Ringers: Limited Series          84%\n",
      "40                              Perry Mason: Season 2          84%\n",
      "41                                Shrinking: Season 1          82%\n",
      "42                                XO, Kitty: Season 1          82%\n",
      "43                                Ted Lasso: Season 3          79%\n",
      "44                          Shadow and Bone: Season 2          79%\n",
      "45                           The Consultant: Season 1          78%\n",
      "46                                   Bupkis: Season 1          78%\n",
      "47                           That '90s Show: Season 1          76%\n",
      "48                    Based on a True Story: Season 1          75%\n",
      "49                              Rabbit Hole: Season 1          75%\n",
      "50                          The Night Agent: Season 1          75%\n",
      "51                                Jury Duty: Season 1          77%\n",
      "52                                  Hunters: Season 2          71%\n"
     ]
    }
   ],
   "source": [
    "try:\n",
    "    source= requests.get(\"https://editorial.rottentomatoes.com/guide/best-tv-shows-of-2023/\")\n",
    "    source.raise_for_status()\n",
    "     \n",
    "    soup= BeautifulSoup(source.text,'html.parser')\n",
    "    \n",
    "    tv_shows=soup.find('div',class_=\"articleContentBody\").find_all('h2')\n",
    "    count_of_tv_shows=(len(tv_shows))\n",
    "    print(count_of_tv_shows)\n",
    "    \n",
    "    data=[]   \n",
    "    for TvShows in tv_shows:\n",
    "       \n",
    "        show_name=TvShows.a.text\n",
    "        Tomato_score=TvShows.find('span',class_=\"tMeterScore\").text\n",
    "        data.append(\n",
    "            {\n",
    "            'SHOW NAME':show_name,\n",
    "            'TOMATO SCORE':Tomato_score\n",
    "             }\n",
    "          )\n",
    "         \n",
    "    df=pd.DataFrame(data)\n",
    "    print(df)\n",
    "    \n",
    "  \n",
    "    \n",
    "except Exception as e:\n",
    "       print(e)"
   ]
  },
  {
   "cell_type": "code",
   "execution_count": 4,
   "id": "6556f174",
   "metadata": {},
   "outputs": [],
   "source": [
    "from bs4 import BeautifulSoup\n",
    "import openpyxl"
   ]
  },
  {
   "cell_type": "code",
   "execution_count": 5,
   "id": "17e2475b",
   "metadata": {},
   "outputs": [],
   "source": [
    "output_file = 'output_data.xlsx'  # Replace with your desired file name\n",
    "\n",
    "# Save the DataFrame to Excel\n",
    "df.to_excel(output_file, index=False)  # Set index=False to exclude row numbers in the output file\n"
   ]
  },
  {
   "cell_type": "code",
   "execution_count": 6,
   "id": "82598c4c",
   "metadata": {},
   "outputs": [],
   "source": [
    "output_file = 'output_data.xlsx'\n",
    "sheet_name = 'Sheet1'\n",
    "start_row = 1\n",
    "start_col = 1\n",
    "\n",
    "df.to_excel(output_file, sheet_name=sheet_name, startrow=start_row, startcol=start_col, index=False)\n"
   ]
  },
  {
   "cell_type": "code",
   "execution_count": null,
   "id": "480aeef1",
   "metadata": {},
   "outputs": [],
   "source": []
  }
 ],
 "metadata": {
  "kernelspec": {
   "display_name": "Python 3 (ipykernel)",
   "language": "python",
   "name": "python3"
  },
  "language_info": {
   "codemirror_mode": {
    "name": "ipython",
    "version": 3
   },
   "file_extension": ".py",
   "mimetype": "text/x-python",
   "name": "python",
   "nbconvert_exporter": "python",
   "pygments_lexer": "ipython3",
   "version": "3.11.4"
  }
 },
 "nbformat": 4,
 "nbformat_minor": 5
}
